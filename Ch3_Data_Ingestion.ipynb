{
  "nbformat": 4,
  "nbformat_minor": 0,
  "metadata": {
    "colab": {
      "name": "Ch3_Data_Ingestion.ipynb",
      "provenance": []
    },
    "kernelspec": {
      "name": "python3",
      "display_name": "Python 3"
    },
    "language_info": {
      "name": "python"
    }
  },
  "cells": [
    {
      "cell_type": "code",
      "execution_count": 6,
      "metadata": {
        "id": "S8N56erdOnPX"
      },
      "outputs": [],
      "source": [
        "\"\"\"\n",
        "Downloads the csv data\n",
        "\"\"\"\n",
        "\n",
        "import logging\n",
        "import os\n",
        "import shutil\n",
        "\n",
        "import pandas as pd\n",
        "import urllib3\n",
        "\n",
        "# Initial dataset source\n",
        "DATASET_URL = \"http://bit.ly/building-ml-pipelines-dataset\"\n",
        "\n",
        "# Initial local dataset location\n",
        "LOCAL_FILE_NAME = \"data/consumer_complaints_with_narrative.csv\"\n",
        "\n",
        "\n",
        "def download_dataset(url=DATASET_URL):\n",
        "    \"\"\"download_dataset downloads the remote dataset to a local path\n",
        "    Keyword Arguments:\n",
        "        url {string} --\n",
        "            complete url path to the csv data source (default: {DATASET_URL})\n",
        "        local_path {string} --\n",
        "            initial local file location (default: {LOCAL_FILE_NAME})\n",
        "    Returns:\n",
        "        None\n",
        "    \"\"\"\n",
        "    # disable insecure https warning\n",
        "    urllib3.disable_warnings(urllib3.exceptions.InsecureRequestWarning)\n",
        "\n",
        "    c = urllib3.PoolManager()\n",
        "    with c.request(\"GET\", url, preload_content=False) as res, open(\n",
        "        LOCAL_FILE_NAME, \"wb\"\n",
        "    ) as out_file:\n",
        "        shutil.copyfileobj(res, out_file)\n",
        "    logging.info(\"Download completed.\")\n",
        "\n",
        "\n",
        "def create_folder():\n",
        "    \"\"\"Creates a data folder if it doesn't exist.\n",
        "    Returns:\n",
        "        None\n",
        "    \"\"\"\n",
        "    directory = \"data/\"\n",
        "    if not os.path.exists(directory):\n",
        "        os.makedirs(directory)\n",
        "        logging.info(\"Data folder created.\")\n",
        "    else:\n",
        "        logging.info(\"Data folder already existed.\")\n",
        "\n",
        "\n",
        "def check_execution_path():\n",
        "    \"\"\"Check if the function and therefore all subsequent functions\n",
        "        are executed from the root of the project\n",
        "    Returns:\n",
        "        boolean -- returns False if execution path isn't the root,\n",
        "            otherwise True\n",
        "    \"\"\"\n",
        "    file_name = \"LICENSE\"\n",
        "    if not os.path.exists(file_name):\n",
        "        logging.error(\n",
        "            \"Don't execute the script from a sub-directory. \"\n",
        "            \"Switch to the root of the project folder\"\n",
        "        )\n",
        "        return False\n",
        "    return True\n",
        "\n",
        "\n",
        "if __name__ == \"__main__\":\n",
        "\n",
        "    logging.basicConfig(level=logging.INFO)\n",
        "    logging.info(\"Started download script\")\n",
        "    create_folder()\n",
        "    download_dataset()\n",
        "\n",
        "    logging.info(\"Finished download script\")"
      ]
    },
    {
      "cell_type": "markdown",
      "source": [
        "Crearte a tf.record to be ingested"
      ],
      "metadata": {
        "id": "FATDs0lCP5q2"
      }
    },
    {
      "cell_type": "code",
      "source": [
        "import tensorflow as tf\n",
        "import pandas as pd\n",
        "import tqdm\n",
        "import csv"
      ],
      "metadata": {
        "id": "PUidtt2TP70U"
      },
      "execution_count": 23,
      "outputs": []
    },
    {
      "cell_type": "code",
      "source": [
        "cdata = pd.read_csv('data/consumer_complaints_with_narrative.csv')"
      ],
      "metadata": {
        "id": "6aJ-BXfUQGyd"
      },
      "execution_count": 10,
      "outputs": []
    },
    {
      "cell_type": "code",
      "source": [
        "cdata.head()"
      ],
      "metadata": {
        "colab": {
          "base_uri": "https://localhost:8080/",
          "height": 545
        },
        "id": "eSssogbqQPE2",
        "outputId": "26306153-2dee-4273-dc6d-a2c8f108df7e"
      },
      "execution_count": 14,
      "outputs": [
        {
          "output_type": "execute_result",
          "data": {
            "text/html": [
              "\n",
              "  <div id=\"df-291ce9b2-6b63-4874-9c56-a59691ed1326\">\n",
              "    <div class=\"colab-df-container\">\n",
              "      <div>\n",
              "<style scoped>\n",
              "    .dataframe tbody tr th:only-of-type {\n",
              "        vertical-align: middle;\n",
              "    }\n",
              "\n",
              "    .dataframe tbody tr th {\n",
              "        vertical-align: top;\n",
              "    }\n",
              "\n",
              "    .dataframe thead th {\n",
              "        text-align: right;\n",
              "    }\n",
              "</style>\n",
              "<table border=\"1\" class=\"dataframe\">\n",
              "  <thead>\n",
              "    <tr style=\"text-align: right;\">\n",
              "      <th></th>\n",
              "      <th>product</th>\n",
              "      <th>sub_product</th>\n",
              "      <th>issue</th>\n",
              "      <th>sub_issue</th>\n",
              "      <th>consumer_complaint_narrative</th>\n",
              "      <th>company</th>\n",
              "      <th>state</th>\n",
              "      <th>zip_code</th>\n",
              "      <th>company_response</th>\n",
              "      <th>timely_response</th>\n",
              "      <th>consumer_disputed</th>\n",
              "    </tr>\n",
              "  </thead>\n",
              "  <tbody>\n",
              "    <tr>\n",
              "      <th>0</th>\n",
              "      <td>Debt collection</td>\n",
              "      <td>I do not know</td>\n",
              "      <td>Disclosure verification of debt</td>\n",
              "      <td>Right to dispute notice not received</td>\n",
              "      <td>I was denied employment because of a judgment ...</td>\n",
              "      <td>Encore Capital Group</td>\n",
              "      <td>NY</td>\n",
              "      <td>113XX</td>\n",
              "      <td>Closed with explanation</td>\n",
              "      <td>Yes</td>\n",
              "      <td>0</td>\n",
              "    </tr>\n",
              "    <tr>\n",
              "      <th>1</th>\n",
              "      <td>Credit reporting</td>\n",
              "      <td>NaN</td>\n",
              "      <td>Improper use of my credit report</td>\n",
              "      <td>Report improperly shared by CRC</td>\n",
              "      <td>I have a credit card through XXXX XXXX and XXX...</td>\n",
              "      <td>Experian</td>\n",
              "      <td>IL</td>\n",
              "      <td>606XX</td>\n",
              "      <td>Closed with non-monetary relief</td>\n",
              "      <td>Yes</td>\n",
              "      <td>0</td>\n",
              "    </tr>\n",
              "    <tr>\n",
              "      <th>2</th>\n",
              "      <td>Debt collection</td>\n",
              "      <td>I do not know</td>\n",
              "      <td>Cont'd attempts collect debt not owed</td>\n",
              "      <td>Debt is not mine</td>\n",
              "      <td>Almost daily phone calls from Stellar Recovery...</td>\n",
              "      <td>Stellar Recovery Inc.</td>\n",
              "      <td>MI</td>\n",
              "      <td>480XX</td>\n",
              "      <td>Closed with explanation</td>\n",
              "      <td>Yes</td>\n",
              "      <td>1</td>\n",
              "    </tr>\n",
              "    <tr>\n",
              "      <th>3</th>\n",
              "      <td>Mortgage</td>\n",
              "      <td>Conventional fixed mortgage</td>\n",
              "      <td>Loan servicing, payments, escrow account</td>\n",
              "      <td>NaN</td>\n",
              "      <td>I submitted my monthly mortgage payment to Pri...</td>\n",
              "      <td>Primary Residential Mortgage</td>\n",
              "      <td>CT</td>\n",
              "      <td>066XX</td>\n",
              "      <td>Closed with monetary relief</td>\n",
              "      <td>Yes</td>\n",
              "      <td>0</td>\n",
              "    </tr>\n",
              "    <tr>\n",
              "      <th>4</th>\n",
              "      <td>Student loan</td>\n",
              "      <td>Non-federal student loan</td>\n",
              "      <td>Dealing with my lender or servicer</td>\n",
              "      <td>Received bad information about my loan</td>\n",
              "      <td>I contacted America Education Services in XX/X...</td>\n",
              "      <td>AES/PHEAA</td>\n",
              "      <td>FL</td>\n",
              "      <td>321XX</td>\n",
              "      <td>Closed with explanation</td>\n",
              "      <td>Yes</td>\n",
              "      <td>1</td>\n",
              "    </tr>\n",
              "  </tbody>\n",
              "</table>\n",
              "</div>\n",
              "      <button class=\"colab-df-convert\" onclick=\"convertToInteractive('df-291ce9b2-6b63-4874-9c56-a59691ed1326')\"\n",
              "              title=\"Convert this dataframe to an interactive table.\"\n",
              "              style=\"display:none;\">\n",
              "        \n",
              "  <svg xmlns=\"http://www.w3.org/2000/svg\" height=\"24px\"viewBox=\"0 0 24 24\"\n",
              "       width=\"24px\">\n",
              "    <path d=\"M0 0h24v24H0V0z\" fill=\"none\"/>\n",
              "    <path d=\"M18.56 5.44l.94 2.06.94-2.06 2.06-.94-2.06-.94-.94-2.06-.94 2.06-2.06.94zm-11 1L8.5 8.5l.94-2.06 2.06-.94-2.06-.94L8.5 2.5l-.94 2.06-2.06.94zm10 10l.94 2.06.94-2.06 2.06-.94-2.06-.94-.94-2.06-.94 2.06-2.06.94z\"/><path d=\"M17.41 7.96l-1.37-1.37c-.4-.4-.92-.59-1.43-.59-.52 0-1.04.2-1.43.59L10.3 9.45l-7.72 7.72c-.78.78-.78 2.05 0 2.83L4 21.41c.39.39.9.59 1.41.59.51 0 1.02-.2 1.41-.59l7.78-7.78 2.81-2.81c.8-.78.8-2.07 0-2.86zM5.41 20L4 18.59l7.72-7.72 1.47 1.35L5.41 20z\"/>\n",
              "  </svg>\n",
              "      </button>\n",
              "      \n",
              "  <style>\n",
              "    .colab-df-container {\n",
              "      display:flex;\n",
              "      flex-wrap:wrap;\n",
              "      gap: 12px;\n",
              "    }\n",
              "\n",
              "    .colab-df-convert {\n",
              "      background-color: #E8F0FE;\n",
              "      border: none;\n",
              "      border-radius: 50%;\n",
              "      cursor: pointer;\n",
              "      display: none;\n",
              "      fill: #1967D2;\n",
              "      height: 32px;\n",
              "      padding: 0 0 0 0;\n",
              "      width: 32px;\n",
              "    }\n",
              "\n",
              "    .colab-df-convert:hover {\n",
              "      background-color: #E2EBFA;\n",
              "      box-shadow: 0px 1px 2px rgba(60, 64, 67, 0.3), 0px 1px 3px 1px rgba(60, 64, 67, 0.15);\n",
              "      fill: #174EA6;\n",
              "    }\n",
              "\n",
              "    [theme=dark] .colab-df-convert {\n",
              "      background-color: #3B4455;\n",
              "      fill: #D2E3FC;\n",
              "    }\n",
              "\n",
              "    [theme=dark] .colab-df-convert:hover {\n",
              "      background-color: #434B5C;\n",
              "      box-shadow: 0px 1px 3px 1px rgba(0, 0, 0, 0.15);\n",
              "      filter: drop-shadow(0px 1px 2px rgba(0, 0, 0, 0.3));\n",
              "      fill: #FFFFFF;\n",
              "    }\n",
              "  </style>\n",
              "\n",
              "      <script>\n",
              "        const buttonEl =\n",
              "          document.querySelector('#df-291ce9b2-6b63-4874-9c56-a59691ed1326 button.colab-df-convert');\n",
              "        buttonEl.style.display =\n",
              "          google.colab.kernel.accessAllowed ? 'block' : 'none';\n",
              "\n",
              "        async function convertToInteractive(key) {\n",
              "          const element = document.querySelector('#df-291ce9b2-6b63-4874-9c56-a59691ed1326');\n",
              "          const dataTable =\n",
              "            await google.colab.kernel.invokeFunction('convertToInteractive',\n",
              "                                                     [key], {});\n",
              "          if (!dataTable) return;\n",
              "\n",
              "          const docLinkHtml = 'Like what you see? Visit the ' +\n",
              "            '<a target=\"_blank\" href=https://colab.research.google.com/notebooks/data_table.ipynb>data table notebook</a>'\n",
              "            + ' to learn more about interactive tables.';\n",
              "          element.innerHTML = '';\n",
              "          dataTable['output_type'] = 'display_data';\n",
              "          await google.colab.output.renderOutput(dataTable, element);\n",
              "          const docLink = document.createElement('div');\n",
              "          docLink.innerHTML = docLinkHtml;\n",
              "          element.appendChild(docLink);\n",
              "        }\n",
              "      </script>\n",
              "    </div>\n",
              "  </div>\n",
              "  "
            ],
            "text/plain": [
              "            product  ... consumer_disputed\n",
              "0   Debt collection  ...                 0\n",
              "1  Credit reporting  ...                 0\n",
              "2   Debt collection  ...                 1\n",
              "3          Mortgage  ...                 0\n",
              "4      Student loan  ...                 1\n",
              "\n",
              "[5 rows x 11 columns]"
            ]
          },
          "metadata": {},
          "execution_count": 14
        }
      ]
    },
    {
      "cell_type": "markdown",
      "source": [
        "## Helper code to convert csv to tfreacord"
      ],
      "metadata": {
        "id": "5nxsSAf7Qi9j"
      }
    },
    {
      "cell_type": "code",
      "source": [
        "def _bytes_feature(value):\n",
        "    return tf.train.Feature(bytes_list=tf.train.BytesList(value=[value.encode()]))\n",
        "\n",
        "\n",
        "def _int64_feature(value):\n",
        "    return tf.train.Feature(int64_list=tf.train.Int64List(value=[value]))\n",
        "\n",
        "\n",
        "def clean_rows(row):\n",
        "    if not row[\"zip_code\"]:\n",
        "        row[\"zip_code\"] = \"99999\"\n",
        "    return row\n",
        "\n",
        "\n",
        "def convert_zipcode_to_int(zipcode):\n",
        "    if isinstance(zipcode, str) and \"XX\" in zipcode:\n",
        "        zipcode = zipcode.replace(\"XX\", \"00\")\n",
        "    int_zipcode = int(zipcode)\n",
        "    return int_zipcode"
      ],
      "metadata": {
        "id": "JRMdzyqjQl_-"
      },
      "execution_count": 26,
      "outputs": []
    },
    {
      "cell_type": "code",
      "source": [
        "original_data_file = \"data/consumer_complaints_with_narrative.csv\"\n",
        "\n",
        "tfrecords_filename = \"consumer-complaints.tfrecords\"\n",
        "tf_record_writer = tf.io.TFRecordWriter(tfrecords_filename)\n",
        "\n",
        "with open(original_data_file) as csv_file:\n",
        "    reader = csv.DictReader(csv_file, delimiter=\",\", quotechar='\"')\n",
        "    for row in reader:\n",
        "        row = clean_rows(row)\n",
        "        example = tf.train.Example(\n",
        "            features=tf.train.Features(\n",
        "                feature={\n",
        "                    \"product\": _bytes_feature(row[\"product\"]),\n",
        "                    \"sub_product\": _bytes_feature(row[\"sub_product\"]),\n",
        "                    \"issue\": _bytes_feature(row[\"issue\"]),\n",
        "                    \"sub_issue\": _bytes_feature(row[\"sub_issue\"]),\n",
        "                    \"state\": _bytes_feature(row[\"state\"]),\n",
        "                    \"zip_code\": _int64_feature(convert_zipcode_to_int(row[\"zip_code\"])),\n",
        "                    \"company\": _bytes_feature(row[\"company\"]),\n",
        "                    \"company_response\": _bytes_feature(row[\"company_response\"]),\n",
        "                    \"timely_response\": _bytes_feature(row[\"timely_response\"]),\n",
        "                    \"consumer_disputed\": _bytes_feature(row[\"consumer_disputed\"]),\n",
        "                }\n",
        "            )\n",
        "        )\n",
        "        tf_record_writer.write(example.SerializeToString())\n",
        "    tf_record_writer.close()"
      ],
      "metadata": {
        "id": "P5WhfjpEQmnD"
      },
      "execution_count": 27,
      "outputs": []
    },
    {
      "cell_type": "code",
      "source": [
        "# A different beast to learn this\n",
        "dataset = tf.data.TFRecordDataset(['consumer-complaints.tfrecords'])\n"
      ],
      "metadata": {
        "id": "MmBGvMDtRXam"
      },
      "execution_count": 29,
      "outputs": []
    },
    {
      "cell_type": "code",
      "source": [
        "dataset.element_spec"
      ],
      "metadata": {
        "colab": {
          "base_uri": "https://localhost:8080/"
        },
        "id": "DTwqvyxPSLW6",
        "outputId": "07703566-6ab6-48c4-81be-ba600baaec96"
      },
      "execution_count": 31,
      "outputs": [
        {
          "output_type": "execute_result",
          "data": {
            "text/plain": [
              "TensorSpec(shape=(), dtype=tf.string, name=None)"
            ]
          },
          "metadata": {},
          "execution_count": 31
        }
      ]
    },
    {
      "cell_type": "code",
      "source": [
        ""
      ],
      "metadata": {
        "id": "Ew3HJcfgSM4l"
      },
      "execution_count": null,
      "outputs": []
    }
  ]
}