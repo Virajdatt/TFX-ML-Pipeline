{
  "nbformat": 4,
  "nbformat_minor": 0,
  "metadata": {
    "colab": {
      "name": "tfx_apache_beam.ipynb",
      "provenance": []
    },
    "kernelspec": {
      "name": "python3",
      "display_name": "Python 3"
    },
    "language_info": {
      "name": "python"
    }
  },
  "cells": [
    {
      "cell_type": "code",
      "execution_count": 5,
      "metadata": {
        "id": "p3QY1Fu5vsau"
      },
      "outputs": [],
      "source": [
        "#!pip install apache_beam"
      ]
    },
    {
      "cell_type": "code",
      "source": [
        ""
      ],
      "metadata": {
        "id": "74v6PSjuwVvs"
      },
      "execution_count": null,
      "outputs": []
    },
    {
      "cell_type": "code",
      "source": [
        "!echo 'hey how are you?, I am good and you?' >> 'input.txt'"
      ],
      "metadata": {
        "id": "wX3jHv2qv-PA"
      },
      "execution_count": 1,
      "outputs": []
    },
    {
      "cell_type": "code",
      "source": [
        "!cat input.txt"
      ],
      "metadata": {
        "colab": {
          "base_uri": "https://localhost:8080/"
        },
        "id": "xcGl2MhmwHbi",
        "outputId": "83cb0489-26ed-4e4a-9fb9-90daab68fa72"
      },
      "execution_count": 2,
      "outputs": [
        {
          "output_type": "stream",
          "name": "stdout",
          "text": [
            "hey how are you?, I am good and you?\n"
          ]
        }
      ]
    },
    {
      "cell_type": "code",
      "source": [
        "import re\n",
        "\n",
        "import apache_beam as beam\n",
        "from apache_beam.options.pipeline_options import PipelineOptions\n",
        "\n",
        "\n",
        "input_file = \"input.txt\"\n",
        "output_file = \"output.txt\"\n",
        "\n",
        "pipeline_options = PipelineOptions()\n",
        "\n",
        "\n",
        "with beam.Pipeline(options=pipeline_options) as p: \n",
        "\n",
        "    # Read the text file[pattern] into a PCollection.\n",
        "    lines = p | beam.io.ReadFromText(input_file)\n",
        "\n",
        "    # Count the occurrences of each word.\n",
        "    counts = (\n",
        "        lines\n",
        "        | 'Split' >> (beam.FlatMap(lambda x: re.findall(r'[A-Za-z\\']+', x)))\n",
        "                      # .with_output_types(unicode))\n",
        "        | 'PairWithOne' >> beam.Map(lambda x: (x, 1))\n",
        "        | 'GroupAndSum' >> beam.CombinePerKey(sum))\n",
        "\n",
        "    # Format the counts into a PCollection of strings.\n",
        "    def format_result(word_count):\n",
        "        (word, count) = word_count\n",
        "        return f\"{word}: {count}\"\n",
        "\n",
        "    output = counts | 'Format' >> beam.Map(format_result)\n",
        "\n",
        "    # Write the output using a \"Write\" transform that has side effects.\n",
        "    output | beam.io.WriteToText(output_file)"
      ],
      "metadata": {
        "colab": {
          "base_uri": "https://localhost:8080/",
          "height": 89
        },
        "id": "GUPHRX2avw7A",
        "outputId": "139feb9e-f5c0-4bb5-9b6e-fe128f01a630"
      },
      "execution_count": 3,
      "outputs": [
        {
          "output_type": "stream",
          "name": "stderr",
          "text": [
            "WARNING:apache_beam.runners.interactive.interactive_environment:Dependencies required for Interactive Beam PCollection visualization are not available, please use: `pip install apache-beam[interactive]` to install necessary dependencies to enable all data visualization features.\n"
          ]
        },
        {
          "output_type": "display_data",
          "data": {
            "application/javascript": [
              "\n",
              "        if (typeof window.interactive_beam_jquery == 'undefined') {\n",
              "          var jqueryScript = document.createElement('script');\n",
              "          jqueryScript.src = 'https://code.jquery.com/jquery-3.4.1.slim.min.js';\n",
              "          jqueryScript.type = 'text/javascript';\n",
              "          jqueryScript.onload = function() {\n",
              "            var datatableScript = document.createElement('script');\n",
              "            datatableScript.src = 'https://cdn.datatables.net/1.10.20/js/jquery.dataTables.min.js';\n",
              "            datatableScript.type = 'text/javascript';\n",
              "            datatableScript.onload = function() {\n",
              "              window.interactive_beam_jquery = jQuery.noConflict(true);\n",
              "              window.interactive_beam_jquery(document).ready(function($){\n",
              "                \n",
              "              });\n",
              "            }\n",
              "            document.head.appendChild(datatableScript);\n",
              "          };\n",
              "          document.head.appendChild(jqueryScript);\n",
              "        } else {\n",
              "          window.interactive_beam_jquery(document).ready(function($){\n",
              "            \n",
              "          });\n",
              "        }"
            ]
          },
          "metadata": {}
        },
        {
          "output_type": "stream",
          "name": "stderr",
          "text": [
            "WARNING:apache_beam.options.pipeline_options:Discarding unparseable args: ['-f', '/root/.local/share/jupyter/runtime/kernel-f7640f59-3c5d-4d2e-8e0c-f04f9ccaf5e5.json']\n",
            "WARNING:root:Make sure that locally built Python SDK docker image has Python 3.7 interpreter.\n"
          ]
        }
      ]
    },
    {
      "cell_type": "code",
      "source": [
        "!cat output.txt-00000-of-00001"
      ],
      "metadata": {
        "colab": {
          "base_uri": "https://localhost:8080/"
        },
        "id": "dJIuQ1kGwPRN",
        "outputId": "cb016f91-554d-4485-8d17-dab425ab0a11"
      },
      "execution_count": 4,
      "outputs": [
        {
          "output_type": "stream",
          "name": "stdout",
          "text": [
            "hey: 1\n",
            "how: 1\n",
            "are: 1\n",
            "you: 2\n",
            "I: 1\n",
            "am: 1\n",
            "good: 1\n",
            "and: 1\n"
          ]
        }
      ]
    },
    {
      "cell_type": "code",
      "source": [
        ""
      ],
      "metadata": {
        "id": "0fjoeVotwSUW"
      },
      "execution_count": null,
      "outputs": []
    }
  ]
}